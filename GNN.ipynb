{
  "nbformat": 4,
  "nbformat_minor": 0,
  "metadata": {
    "colab": {
      "name": "GNN.ipynb",
      "provenance": [],
      "collapsed_sections": [],
      "include_colab_link": true
    },
    "kernelspec": {
      "name": "python3",
      "display_name": "Python 3"
    },
    "language_info": {
      "name": "python"
    }
  },
  "cells": [
    {
      "cell_type": "markdown",
      "metadata": {
        "id": "view-in-github",
        "colab_type": "text"
      },
      "source": [
        "<a href=\"https://colab.research.google.com/github/mammadmaheri7/core_GNN/blob/main/GNN.ipynb\" target=\"_parent\"><img src=\"https://colab.research.google.com/assets/colab-badge.svg\" alt=\"Open In Colab\"/></a>"
      ]
    },
    {
      "cell_type": "markdown",
      "metadata": {
        "id": "4TXpGiFALUGt"
      },
      "source": [
        "Python Enviroment for GNN:\n",
        "\n",
        "- https://docs.dgl.ai/index.html\n",
        "\n",
        "- https://graphneural.network\n",
        "\n",
        "- https://www.pyg.org\n",
        "\n",
        "- http://snap.stanford.edu/gnn-design/"
      ]
    },
    {
      "cell_type": "code",
      "metadata": {
        "colab": {
          "base_uri": "https://localhost:8080/"
        },
        "id": "tqXhvH6dsZJA",
        "outputId": "49be7f34-7960-42f4-b552-7a59bc437611"
      },
      "source": [
        "! pip install dgl"
      ],
      "execution_count": 1,
      "outputs": [
        {
          "output_type": "stream",
          "name": "stdout",
          "text": [
            "Collecting dgl\n",
            "  Downloading dgl-0.6.1-cp37-cp37m-manylinux1_x86_64.whl (4.4 MB)\n",
            "\u001b[K     |████████████████████████████████| 4.4 MB 5.4 MB/s \n",
            "\u001b[?25hRequirement already satisfied: requests>=2.19.0 in /usr/local/lib/python3.7/dist-packages (from dgl) (2.23.0)\n",
            "Requirement already satisfied: scipy>=1.1.0 in /usr/local/lib/python3.7/dist-packages (from dgl) (1.4.1)\n",
            "Requirement already satisfied: networkx>=2.1 in /usr/local/lib/python3.7/dist-packages (from dgl) (2.6.3)\n",
            "Requirement already satisfied: numpy>=1.14.0 in /usr/local/lib/python3.7/dist-packages (from dgl) (1.19.5)\n",
            "Requirement already satisfied: idna<3,>=2.5 in /usr/local/lib/python3.7/dist-packages (from requests>=2.19.0->dgl) (2.10)\n",
            "Requirement already satisfied: chardet<4,>=3.0.2 in /usr/local/lib/python3.7/dist-packages (from requests>=2.19.0->dgl) (3.0.4)\n",
            "Requirement already satisfied: certifi>=2017.4.17 in /usr/local/lib/python3.7/dist-packages (from requests>=2.19.0->dgl) (2021.5.30)\n",
            "Requirement already satisfied: urllib3!=1.25.0,!=1.25.1,<1.26,>=1.21.1 in /usr/local/lib/python3.7/dist-packages (from requests>=2.19.0->dgl) (1.24.3)\n",
            "Installing collected packages: dgl\n",
            "Successfully installed dgl-0.6.1\n"
          ]
        }
      ]
    },
    {
      "cell_type": "code",
      "metadata": {
        "colab": {
          "base_uri": "https://localhost:8080/"
        },
        "id": "_4SmjU8NuYBN",
        "outputId": "493bf814-ea58-49d1-e37a-7131471b348a"
      },
      "source": [
        "import dgl\n",
        "import torch\n",
        "import torch.nn as nn\n",
        "import torch.nn.functional as F\n",
        "\n",
        "import itertools\n",
        "import numpy as np\n",
        "import scipy.sparse as sp"
      ],
      "execution_count": 2,
      "outputs": [
        {
          "output_type": "stream",
          "name": "stderr",
          "text": [
            "DGL backend not selected or invalid.  Assuming PyTorch for now.\n"
          ]
        },
        {
          "output_type": "stream",
          "name": "stdout",
          "text": [
            "Setting the default backend to \"pytorch\". You can change it in the ~/.dgl/config.json file or export the DGLBACKEND environment variable.  Valid options are: pytorch, mxnet, tensorflow (all lowercase)\n"
          ]
        },
        {
          "output_type": "stream",
          "name": "stderr",
          "text": [
            "Using backend: pytorch\n"
          ]
        }
      ]
    },
    {
      "cell_type": "markdown",
      "metadata": {
        "id": "3NGNdu-PNkuq"
      },
      "source": [
        "# Node Classification"
      ]
    },
    {
      "cell_type": "markdown",
      "metadata": {
        "id": "54pJ_xkcLuJy"
      },
      "source": [
        "The Cora dataset consists of 2708 scientific publications classified into one of seven classes. The citation network consists of 5429 links. Each publication in the dataset is described by a 0/1-valued word vector indicating the absence/presence of the corresponding word from the dictionary. The dictionary consists of 1433 unique words.\n",
        "\n",
        "https://relational.fit.cvut.cz/dataset/CORA"
      ]
    },
    {
      "cell_type": "code",
      "metadata": {
        "colab": {
          "base_uri": "https://localhost:8080/"
        },
        "id": "rFKkDpn5syzr",
        "outputId": "3c7e6581-f1b9-49dd-80ac-38cc3c1f1fdd"
      },
      "source": [
        "import dgl.data\n",
        "\n",
        "dataset = dgl.data.CoraGraphDataset()\n",
        "print('Number of categories:', dataset.num_classes)"
      ],
      "execution_count": 3,
      "outputs": [
        {
          "output_type": "stream",
          "name": "stdout",
          "text": [
            "Downloading /root/.dgl/cora_v2.zip from https://data.dgl.ai/dataset/cora_v2.zip...\n",
            "Extracting file to /root/.dgl/cora_v2\n",
            "Finished data loading and preprocessing.\n",
            "  NumNodes: 2708\n",
            "  NumEdges: 10556\n",
            "  NumFeats: 1433\n",
            "  NumClasses: 7\n",
            "  NumTrainingSamples: 140\n",
            "  NumValidationSamples: 500\n",
            "  NumTestSamples: 1000\n",
            "Done saving data into cached files.\n",
            "Number of categories: 7\n"
          ]
        }
      ]
    },
    {
      "cell_type": "code",
      "metadata": {
        "id": "5PAdLqvHs70U"
      },
      "source": [
        "g = dataset[0]"
      ],
      "execution_count": 4,
      "outputs": []
    },
    {
      "cell_type": "code",
      "metadata": {
        "colab": {
          "base_uri": "https://localhost:8080/"
        },
        "id": "oV4Qs5uGungP",
        "outputId": "23bd2492-9b73-49f2-fac2-a9d7280db11d"
      },
      "source": [
        "print('Node features')\n",
        "print(g.ndata)\n",
        "print('Edge features')\n",
        "print(g.edata)"
      ],
      "execution_count": 5,
      "outputs": [
        {
          "output_type": "stream",
          "name": "stdout",
          "text": [
            "Node features\n",
            "{'train_mask': tensor([ True,  True,  True,  ..., False, False, False]), 'val_mask': tensor([False, False, False,  ..., False, False, False]), 'test_mask': tensor([False, False, False,  ...,  True,  True,  True]), 'label': tensor([3, 4, 4,  ..., 3, 3, 3]), 'feat': tensor([[0., 0., 0.,  ..., 0., 0., 0.],\n",
            "        [0., 0., 0.,  ..., 0., 0., 0.],\n",
            "        [0., 0., 0.,  ..., 0., 0., 0.],\n",
            "        ...,\n",
            "        [0., 0., 0.,  ..., 0., 0., 0.],\n",
            "        [0., 0., 0.,  ..., 0., 0., 0.],\n",
            "        [0., 0., 0.,  ..., 0., 0., 0.]])}\n",
            "Edge features\n",
            "{}\n"
          ]
        }
      ]
    },
    {
      "cell_type": "code",
      "metadata": {
        "colab": {
          "base_uri": "https://localhost:8080/"
        },
        "id": "W9ze2SALy2ou",
        "outputId": "d270e980-f607-43de-cfd4-b9107f1d4a50"
      },
      "source": [
        "g.ndata.keys()"
      ],
      "execution_count": 6,
      "outputs": [
        {
          "output_type": "execute_result",
          "data": {
            "text/plain": [
              "dict_keys(['train_mask', 'val_mask', 'test_mask', 'label', 'feat'])"
            ]
          },
          "metadata": {},
          "execution_count": 6
        }
      ]
    },
    {
      "cell_type": "code",
      "metadata": {
        "colab": {
          "base_uri": "https://localhost:8080/"
        },
        "id": "Gnn1X7xhy-6t",
        "outputId": "a92c1939-aa12-495a-d09b-c136fdf972c6"
      },
      "source": [
        "g.ndata['label']"
      ],
      "execution_count": 7,
      "outputs": [
        {
          "output_type": "execute_result",
          "data": {
            "text/plain": [
              "tensor([3, 4, 4,  ..., 3, 3, 3])"
            ]
          },
          "metadata": {},
          "execution_count": 7
        }
      ]
    },
    {
      "cell_type": "code",
      "metadata": {
        "colab": {
          "base_uri": "https://localhost:8080/"
        },
        "id": "VN47yRYjzC0m",
        "outputId": "7a0cb66a-e503-4513-bb25-280255712348"
      },
      "source": [
        "g.edges()"
      ],
      "execution_count": 8,
      "outputs": [
        {
          "output_type": "execute_result",
          "data": {
            "text/plain": [
              "(tensor([   0,    0,    0,  ..., 2707, 2707, 2707]),\n",
              " tensor([ 633, 1862, 2582,  ...,  598, 1473, 2706]))"
            ]
          },
          "metadata": {},
          "execution_count": 8
        }
      ]
    },
    {
      "cell_type": "code",
      "metadata": {
        "colab": {
          "base_uri": "https://localhost:8080/"
        },
        "id": "X7QQL8wxzZ-Z",
        "outputId": "3cbeaec0-ca00-440a-fda1-471342161acd"
      },
      "source": [
        "g.out_degrees([0,1])"
      ],
      "execution_count": 9,
      "outputs": [
        {
          "output_type": "execute_result",
          "data": {
            "text/plain": [
              "tensor([3, 3])"
            ]
          },
          "metadata": {},
          "execution_count": 9
        }
      ]
    },
    {
      "cell_type": "code",
      "metadata": {
        "id": "w0ujFr9IupQz"
      },
      "source": [
        "from dgl.nn import GraphConv\n",
        "\n",
        "class GCN(nn.Module): # nn.Module is Base class for all neural network modules.\n",
        "    # https://pytorch.org/docs/stable/generated/torch.nn.Module.html\n",
        "    def __init__(self, in_feats, h_feats, num_classes):\n",
        "        super(GCN,self).__init__()\n",
        "        self.conv1 = GraphConv(in_feats,h_feats)\n",
        "        self.conv2 = GraphConv(h_feats,num_classes)\n",
        "\n",
        "    def forward(self, g, in_feat):\n",
        "        h = self.conv1(g, in_feat)\n",
        "        h = F.relu(h)\n",
        "        h = self.conv2(g, h)\n",
        "        return h\n",
        "\n",
        "# Create the model with given dimensions\n",
        "model = GCN(g.ndata['feat'].shape[1], 16, 7)"
      ],
      "execution_count": 20,
      "outputs": []
    },
    {
      "cell_type": "code",
      "metadata": {
        "id": "VXk77iqdusnz"
      },
      "source": [
        "def train(g, model):\n",
        "\n",
        "    features = g.ndata['feat']\n",
        "    labels = g.ndata['label']\n",
        "\n",
        "    optimizer = torch.optim.Adam(model.parameters(), lr=0.01)\n",
        "    best_test_acc = 0\n",
        "    best_val_acc = 0\n",
        "\n",
        "    for e in range(100):\n",
        "        # Forward\n",
        "        out = model(g,features)\n",
        "       \n",
        "        # Compute prediction\n",
        "        pred = out.argmax(1)\n",
        "\n",
        "        # Compute loss\n",
        "        # Note that you should only compute the losses of the nodes in the training set.\n",
        "        loss = F.cross_entropy(out[g.ndata['train_mask']], labels[g.ndata['train_mask']])\n",
        "\n",
        "        # Compute accuracy on training/validation/test\n",
        "        train_acc = (labels[g.ndata['train_mask']] == pred[g.ndata['train_mask']]).float().mean()\n",
        "        val_acc = (labels[g.ndata['val_mask']] == pred[g.ndata['val_mask']]).float().mean()\n",
        "        test_acc = (labels[g.ndata['test_mask']] == pred[g.ndata['test_mask']]).float().mean()\n",
        "\n",
        "        # Save the best validation accuracy and the corresponding test accuracy.\n",
        "        best_val_acc = max(best_val_acc,val_acc)\n",
        "        best_test_acc = max(best_test_acc,test_acc)\n",
        "\n",
        "        # Backward\n",
        "        # Sets the gradients of all optimized torch.Tensor s to zero.\n",
        "        #https://pytorch.org/docs/stable/generated/torch.optim.Optimizer.zero_grad.html\n",
        "        optimizer.zero_grad()\n",
        "        loss.backward()\n",
        "        \n",
        "         # Performs a single optimization step (parameter update).\n",
        "        #https://pytorch.org/docs/stable/generated/torch.optim.Optimizer.step.html\n",
        "        optimizer.step()\n",
        "\n",
        "        if e % 5 == 0:\n",
        "            print('In epoch {}, loss: {:.3f}, val acc: {:.3f} (best {:.3f}), test acc: {:.3f} (best {:.3f})'.format(\n",
        "                e, loss, val_acc, best_val_acc, test_acc, best_test_acc))"
      ],
      "execution_count": 26,
      "outputs": []
    },
    {
      "cell_type": "code",
      "metadata": {
        "colab": {
          "base_uri": "https://localhost:8080/"
        },
        "id": "uoEJMyL27ibW",
        "outputId": "f6f8a88f-3e92-4214-8e91-27099040612a"
      },
      "source": [
        "train(g,model)"
      ],
      "execution_count": 27,
      "outputs": [
        {
          "output_type": "stream",
          "name": "stdout",
          "text": [
            "In epoch 0, loss: 1.946, val acc: 0.070 (best 0.070), test acc: 0.089 (best 0.089)\n",
            "In epoch 5, loss: 1.893, val acc: 0.464 (best 0.464), test acc: 0.518 (best 0.518)\n",
            "In epoch 10, loss: 1.816, val acc: 0.548 (best 0.572), test acc: 0.543 (best 0.558)\n",
            "In epoch 15, loss: 1.715, val acc: 0.564 (best 0.572), test acc: 0.559 (best 0.559)\n",
            "In epoch 20, loss: 1.589, val acc: 0.598 (best 0.598), test acc: 0.601 (best 0.601)\n",
            "In epoch 25, loss: 1.444, val acc: 0.646 (best 0.646), test acc: 0.643 (best 0.643)\n",
            "In epoch 30, loss: 1.283, val acc: 0.672 (best 0.672), test acc: 0.668 (best 0.668)\n",
            "In epoch 35, loss: 1.117, val acc: 0.690 (best 0.690), test acc: 0.684 (best 0.684)\n",
            "In epoch 40, loss: 0.951, val acc: 0.694 (best 0.694), test acc: 0.705 (best 0.705)\n",
            "In epoch 45, loss: 0.795, val acc: 0.712 (best 0.712), test acc: 0.720 (best 0.721)\n",
            "In epoch 50, loss: 0.654, val acc: 0.730 (best 0.730), test acc: 0.734 (best 0.734)\n",
            "In epoch 55, loss: 0.531, val acc: 0.740 (best 0.740), test acc: 0.753 (best 0.753)\n",
            "In epoch 60, loss: 0.430, val acc: 0.750 (best 0.750), test acc: 0.761 (best 0.761)\n",
            "In epoch 65, loss: 0.347, val acc: 0.752 (best 0.754), test acc: 0.761 (best 0.762)\n",
            "In epoch 70, loss: 0.282, val acc: 0.756 (best 0.756), test acc: 0.768 (best 0.768)\n",
            "In epoch 75, loss: 0.230, val acc: 0.766 (best 0.766), test acc: 0.768 (best 0.768)\n",
            "In epoch 80, loss: 0.189, val acc: 0.760 (best 0.766), test acc: 0.772 (best 0.772)\n",
            "In epoch 85, loss: 0.158, val acc: 0.762 (best 0.766), test acc: 0.771 (best 0.773)\n",
            "In epoch 90, loss: 0.132, val acc: 0.770 (best 0.770), test acc: 0.774 (best 0.774)\n",
            "In epoch 95, loss: 0.112, val acc: 0.766 (best 0.770), test acc: 0.773 (best 0.774)\n"
          ]
        }
      ]
    },
    {
      "cell_type": "markdown",
      "metadata": {
        "id": "6YeZOoWfU6VD"
      },
      "source": [
        "you can find the spectral code of this example in:\n",
        "https://github.com/danielegrattarola/spektral/blob/master/examples/node_prediction/citation_gcn.py"
      ]
    }
  ]
}